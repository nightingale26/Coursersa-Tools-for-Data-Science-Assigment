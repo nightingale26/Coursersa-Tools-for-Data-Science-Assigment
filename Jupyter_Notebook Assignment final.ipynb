{
  "metadata": {
    "kernelspec": {
      "name": "python",
      "display_name": "Python (Pyodide)",
      "language": "python"
    },
    "language_info": {
      "codemirror_mode": {
        "name": "python",
        "version": 3
      },
      "file_extension": ".py",
      "mimetype": "text/x-python",
      "name": "python",
      "nbconvert_exporter": "python",
      "pygments_lexer": "ipython3",
      "version": "3.8"
    }
  },
  "nbformat_minor": 4,
  "nbformat": 4,
  "cells": [
    {
      "cell_type": "markdown",
      "source": "<center>\n    <img src=\"https://cf-courses-data.s3.us.cloud-object-storage.appdomain.cloud/IBMDeveloperSkillsNetwork-DS0105EN-SkillsNetwork/labs/Module2/images/SN_web_lightmode.png\" width=\"300\" alt=\"cognitiveclass.ai logo\">\n</center>\n",
      "metadata": {}
    },
    {
      "cell_type": "markdown",
      "source": "#### Add your code below following the instructions given in the course\n",
      "metadata": {}
    },
    {
      "cell_type": "markdown",
      "source": "# My Jupiter Notebook on IBM Watson Studio",
      "metadata": {}
    },
    {
      "cell_type": "markdown",
      "source": "Zita Szanto (Internal Auditor)",
      "metadata": {}
    },
    {
      "cell_type": "markdown",
      "source": "_I became interested in data science when I could see as part of my job what insights data can give in internal controls and investigations_",
      "metadata": {}
    },
    {
      "cell_type": "markdown",
      "source": "### This code prints only the odd numbers between 0 and 20",
      "metadata": {}
    },
    {
      "cell_type": "code",
      "source": "numbers = range(20)\nfor number in numbers:\n    if number % 2 == 1:\n        print(number)\n        number +=1",
      "metadata": {
        "trusted": true
      },
      "execution_count": 9,
      "outputs": [
        {
          "name": "stdout",
          "text": "1\n3\n5\n7\n9\n11\n13\n15\n17\n19\n",
          "output_type": "stream"
        }
      ]
    },
    {
      "cell_type": "markdown",
      "source": "| __Month__ | __Number of Days__ |\n| ----- | -------------- |\n| January | 31 |\n| February | 28 |\n| March | 31 |\n| April | 30 |\n| May | 31 |\n| June | 30 |\n| July | 31 |\n| August | 31 |\n| September | 30 |\n| October | 31 |\n| November | 30 |\n| December | 31 |\n\n***\n\nBulleted list:\n\n- 1\n- 2\n- 3\n- 4\n- 5\n\n***\n\nNumbered list:\n\n1. _First_\n2. _Second_\n3. _Third_\n4. _Fourth_\n5. _Fifth_\n\n***\n\n>This is a blocked quote",
      "metadata": {}
    },
    {
      "cell_type": "code",
      "source": "",
      "metadata": {},
      "execution_count": null,
      "outputs": []
    }
  ]
}